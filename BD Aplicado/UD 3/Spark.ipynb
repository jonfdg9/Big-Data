{
  "cells": [
    {
      "cell_type": "code",
      "execution_count": 8,
      "metadata": {
        "colab": {
          "base_uri": "https://localhost:8080/",
          "height": 219
        },
        "collapsed": true,
        "id": "sqTa1ko4M7mQ",
        "outputId": "adacd14f-98ac-43db-ec2d-18d710676ecd"
      },
      "outputs": [
        {
          "data": {
            "text/html": [
              "\n",
              "            <div>\n",
              "                <p><b>SparkSession - in-memory</b></p>\n",
              "                \n",
              "        <div>\n",
              "            <p><b>SparkContext</b></p>\n",
              "\n",
              "            <p><a href=\"http://172.20.104.113:4040\">Spark UI</a></p>\n",
              "\n",
              "            <dl>\n",
              "              <dt>Version</dt>\n",
              "                <dd><code>v3.5.4</code></dd>\n",
              "              <dt>Master</dt>\n",
              "                <dd><code>local[*]</code></dd>\n",
              "              <dt>AppName</dt>\n",
              "                <dd><code>s8a</code></dd>\n",
              "            </dl>\n",
              "        </div>\n",
              "        \n",
              "            </div>\n",
              "        "
            ],
            "text/plain": [
              "<pyspark.sql.session.SparkSession at 0x7f80e256a6f0>"
            ]
          },
          "execution_count": 8,
          "metadata": {},
          "output_type": "execute_result"
        }
      ],
      "source": [
        "from pyspark.sql import SparkSession\n",
        "spark = SparkSession.builder.appName(\"s8a\").master(\"local[*]\").getOrCreate()\n",
        "spark"
      ]
    },
    {
      "cell_type": "code",
      "execution_count": 4,
      "metadata": {
        "colab": {
          "base_uri": "https://localhost:8080/"
        },
        "id": "iB6ld6iUM-8p",
        "outputId": "194811f2-bf58-4d49-9930-54483ec6a866"
      },
      "outputs": [
        {
          "data": {
            "text/plain": [
              "2186"
            ]
          },
          "execution_count": 4,
          "metadata": {},
          "output_type": "execute_result"
        }
      ],
      "source": [
        "quijoteTxt = spark.read.text(\"/home/iabd/Descargas/el_quijote.txt\")\n",
        "quijoteTxt.count()  # número de filas del DataFrame"
      ]
    },
    {
      "cell_type": "code",
      "execution_count": 5,
      "metadata": {
        "colab": {
          "base_uri": "https://localhost:8080/"
        },
        "id": "41OxHlQFPRYb",
        "outputId": "9ee0fb6b-7a7f-467b-c07a-e4f2722ab9d0"
      },
      "outputs": [
        {
          "data": {
            "text/plain": [
              "Row(value='DON QUIJOTE DE LA MANCHA')"
            ]
          },
          "execution_count": 5,
          "metadata": {},
          "output_type": "execute_result"
        }
      ],
      "source": [
        "quijoteTxt.first()  # primera fila"
      ]
    },
    {
      "cell_type": "code",
      "execution_count": 6,
      "metadata": {
        "colab": {
          "base_uri": "https://localhost:8080/"
        },
        "id": "X21u590KPUgS",
        "outputId": "33e18de1-f455-4eb9-dce7-edfa9c6eb2ec"
      },
      "outputs": [
        {
          "data": {
            "text/plain": [
              "584"
            ]
          },
          "execution_count": 6,
          "metadata": {},
          "output_type": "execute_result"
        }
      ],
      "source": [
        "# Transformamos un DataFrame en otro nuevo, con las líneas que contiene la palabra Quijote\n",
        "lineasConQuijote = quijoteTxt.filter(quijoteTxt.value.contains(\"Quijote\"))\n",
        "lineasConQuijote.count()  # cantidad de líneas con la palabra Quijote"
      ]
    },
    {
      "cell_type": "code",
      "execution_count": 7,
      "metadata": {
        "colab": {
          "base_uri": "https://localhost:8080/"
        },
        "id": "jzLGN5xaQ9T0",
        "outputId": "731d1658-a92a-419a-f698-7ef0dda7ee83"
      },
      "outputs": [
        {
          "data": {
            "text/plain": [
              "584"
            ]
          },
          "execution_count": 7,
          "metadata": {},
          "output_type": "execute_result"
        }
      ],
      "source": [
        "# Las transformaciones se pueden encadenar\n",
        "quijoteTxt.filter(quijoteTxt.value.contains(\"Quijote\")).count()"
      ]
    }
  ],
  "metadata": {
    "colab": {
      "provenance": []
    },
    "kernelspec": {
      "display_name": "entorno1",
      "language": "python",
      "name": "python3"
    },
    "language_info": {
      "codemirror_mode": {
        "name": "ipython",
        "version": 3
      },
      "file_extension": ".py",
      "mimetype": "text/x-python",
      "name": "python",
      "nbconvert_exporter": "python",
      "pygments_lexer": "ipython3",
      "version": "3.12.5"
    }
  },
  "nbformat": 4,
  "nbformat_minor": 0
}
