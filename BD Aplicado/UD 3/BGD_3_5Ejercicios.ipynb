{
 "cells": [
  {
   "cell_type": "markdown",
   "metadata": {},
   "source": [
    "# EJERCICIOS"
   ]
  },
  {
   "cell_type": "code",
   "execution_count": 2,
   "metadata": {},
   "outputs": [
    {
     "name": "stderr",
     "output_type": "stream",
     "text": [
      "Setting default log level to \"WARN\".\n",
      "To adjust logging level use sc.setLogLevel(newLevel). For SparkR, use setLogLevel(newLevel).\n",
      "25/01/29 20:22:55 WARN NativeCodeLoader: Unable to load native-hadoop library for your platform... using builtin-java classes where applicable\n"
     ]
    },
    {
     "name": "stderr",
     "output_type": "stream",
     "text": [
      "25/01/29 20:23:09 WARN GarbageCollectionMetrics: To enable non-built-in garbage collector(s) List(G1 Concurrent GC), users should configure it(them) to spark.eventLog.gcMetrics.youngGenerationGarbageCollectors or spark.eventLog.gcMetrics.oldGenerationGarbageCollectors\n"
     ]
    }
   ],
   "source": [
    "import pandas as pd\n",
    "from pyspark.sql import SparkSession\n",
    "\n",
    "spark = SparkSession.builder.master(\"local[*]\").appName(\"pyspark_rdd\").getOrCreate()\n",
    "#spark = SparkSession.builder.getOrCreate()\n",
    "sc = spark.sparkContext"
   ]
  },
  {
   "cell_type": "markdown",
   "metadata": {},
   "source": [
    "## EJERCICIO 0\n",
    "En un documento word haz una lista de las diferentes operaciones con una breve descripción de lo que hace y un ejemplo de como se utiliza (justo la parte donde se utiliza sin contexto).\n"
   ]
  },
  {
   "cell_type": "markdown",
   "metadata": {},
   "source": [
    "**Operaciones en PySpark**\n",
    "\n",
    "1. **map**: Aplica una función a todos los elementos de un RDD.\n",
    "   ```python\n",
    "   rdd.map(lambda x: x * 2)\n",
    "   ```\n",
    "\n",
    "2. **filter**: Filtra los elementos de un RDD según una condición.\n",
    "   ```python\n",
    "   rdd.filter(lambda x: x % 2 == 0)\n",
    "   ```\n",
    "\n",
    "3. **flatMap**: Aplica una función y aplana los resultados en un solo RDD.\n",
    "   ```python\n",
    "   rdd.flatMap(lambda x: x.split(\" \"))\n",
    "   ```\n",
    "\n",
    "4. **reduce**: Aplica una función de reducción a los elementos de un RDD.\n",
    "   ```python\n",
    "   rdd.reduce(lambda a, b: a + b)\n",
    "   ```\n",
    "\n",
    "5. **reduceByKey**: Aplica una función de reducción a los valores con la misma clave en un RDD de pares clave-valor.\n",
    "   ```python\n",
    "   rdd.reduceByKey(lambda a, b: a + b)\n",
    "   ```\n",
    "\n",
    "6. **groupByKey**: Agrupa los valores de un RDD de pares clave-valor por clave.\n",
    "   ```python\n",
    "   rdd.groupByKey()\n",
    "   ```\n",
    "\n",
    "7. **sortBy**: Ordena los elementos de un RDD según una función clave.\n",
    "   ```python\n",
    "   rdd.sortBy(lambda x: x[1])\n",
    "   ```\n",
    "\n",
    "8. **distinct**: Devuelve los elementos únicos de un RDD.\n",
    "   ```python\n",
    "   rdd.distinct()\n",
    "   ```\n",
    "\n",
    "9. **count**: Cuenta la cantidad de elementos en un RDD.\n",
    "   ```python\n",
    "   rdd.count()\n",
    "   ```\n",
    "\n",
    "10. **collect**: Recupera todos los elementos de un RDD en una lista.\n",
    "   ```python\n",
    "      rdd.collect()\n",
    "   ```\n",
    "\n",
    "11. **take**: Devuelve los primeros N elementos de un RDD.\n",
    "   ```python\n",
    "      rdd.take(5)\n",
    "   ```\n",
    "\n",
    "12. **first**: Devuelve el primer elemento de un RDD.\n",
    "   ```python\n",
    "      rdd.first()\n",
    "   ```\n",
    "\n",
    "13. **union**: Une dos RDDs en uno solo.\n",
    "   ```python\n",
    "      rdd1.union(rdd2)\n",
    "   ```\n",
    "\n",
    "14. **intersection**: Devuelve los elementos comunes entre dos RDDs.\n",
    "   ```python\n",
    "      rdd1.intersection(rdd2)\n",
    "   ```\n",
    "\n",
    "15. **subtract**: Devuelve los elementos del primer RDD que no están en el segundo.\n",
    "   ```python\n",
    "      rdd1.subtract(rdd2)\n",
    "   ```\n",
    "\n",
    "16. **join**: Une dos RDDs de pares clave-valor por clave.\n",
    "   ```python\n",
    "      rdd1.join(rdd2)\n",
    "   ```\n",
    "\n",
    "17. **coalesce**: Reduce el número de particiones de un RDD.\n",
    "   ```python\n",
    "      rdd.coalesce(2)\n",
    "   ```\n",
    "\n",
    "18. **repartition**: Redistribuye los datos en un RDD en un número específico de particiones.\n",
    "   ```python\n",
    "      rdd.repartition(4)\n",
    "   ```\n",
    "\n",
    "19. **cache**: Almacena en caché un RDD para evitar recomputaciones.\n",
    "   ```python\n",
    "      rdd.cache()\n",
    "   ```\n",
    "\n",
    "20. **persist**: Almacena un RDD en un nivel específico de almacenamiento.\n",
    "   ```python\n",
    "      rdd.persist()\n",
    "   ```\n",
    "\n"
   ]
  },
  {
   "cell_type": "markdown",
   "metadata": {},
   "source": [
    "## EJERCICIO 1"
   ]
  },
  {
   "cell_type": "markdown",
   "metadata": {},
   "source": [
    "Si tenemos dos RDD (A y B):\n",
    "* rddA = sc.parallelize([1,2,3,4])\n",
    "* rddB = sc.parallelize([3,4,5,6])\n",
    "\n",
    "¿Cómo conseguimos los elementos que están en A y no B y los de B que no están en A? (es decir [1, 2, 5, 6]):"
   ]
  },
  {
   "cell_type": "code",
   "execution_count": 11,
   "metadata": {},
   "outputs": [
    {
     "name": "stderr",
     "output_type": "stream",
     "text": [
      "[Stage 14:============================>                          (23 + 21) / 44]\r"
     ]
    },
    {
     "name": "stdout",
     "output_type": "stream",
     "text": [
      "[1, 2, 5, 6]\n"
     ]
    },
    {
     "name": "stderr",
     "output_type": "stream",
     "text": [
      "                                                                                \r"
     ]
    }
   ],
   "source": [
    "rddA = sc.parallelize([1,2,3,4])\n",
    "rddB = sc.parallelize([3,4,5,6])\n",
    "diff_A_B = rddA.subtract(rddB)\n",
    "diff_B_A = rddB.subtract(rddA)\n",
    "\n",
    "rdd_Diff=diff_A_B.union(diff_B_A)\n",
    "print(rdd_Diff.collect())"
   ]
  },
  {
   "cell_type": "markdown",
   "metadata": {},
   "source": [
    "## EJERCICIO 2"
   ]
  },
  {
   "cell_type": "markdown",
   "metadata": {},
   "source": [
    "A partir de la lista implicita en el string \"Perro Gato Loro Pez León Tortuga Gallina\"\n",
    "1.\tCrea un RDD a partir de esta lista\n",
    "2.\tConvierte el RDD normal en un RDD de pares cuya clave sea la primera letra del animal\n",
    "3.\tCrea otro RDD de pares pero poniendo como clave un número incremental\n",
    "4.\t¿Y si queremos que el índice incremental empiece en 100?\n"
   ]
  },
  {
   "cell_type": "code",
   "execution_count": null,
   "metadata": {},
   "outputs": [],
   "source": []
  },
  {
   "cell_type": "markdown",
   "metadata": {},
   "source": [
    "## EJERCICIO 3"
   ]
  },
  {
   "cell_type": "markdown",
   "metadata": {},
   "source": [
    "Dada la siguiente lista de compra:\n",
    "\n",
    "lista = [('pan',3), ('agua',2), ('azúcar',1), ('leche',2), ('pan',1), ('cereales',3), ('agua',0.5), ('leche',2), ('filetes',5)]\n",
    "\n",
    "Calcula:\n",
    "1.\tEl total que se ha gastado por cada producto\n",
    "2.\tCuánto es lo máximo que se ha pagado por cada producto"
   ]
  },
  {
   "cell_type": "code",
   "execution_count": null,
   "metadata": {},
   "outputs": [],
   "source": []
  },
  {
   "cell_type": "markdown",
   "metadata": {},
   "source": [
    "## EJERCICIO 4"
   ]
  },
  {
   "cell_type": "markdown",
   "metadata": {},
   "source": [
    "Ahora tenemos las cuentas de las compras de 3 días:\n",
    "* día 1: pan 3€, agua 2€, azúcar 1€, leche 2€, pan 4€\n",
    "* día 2: pan 1€, cereales 3€, agua 0.5€, leche 2€, filetes 5€\n",
    "* día 3: filetes 2€, cereales 1€\n",
    "\n",
    "Dada la siguiente lista de compra:\n",
    "\n",
    "- dia1 = [('pan',3), ('agua',2), ('azúcar',1), ('leche',2), ('pan',4)]\n",
    "- dia2 = [('pan',1), ('cereales',3), ('agua',0.5), ('leche',2), ('filetes',5)]\n",
    "- dia3 = [('filetes',2), ('cereales',1)]\n",
    "\n",
    "Responde:\n",
    "1.\t¿Cómo obtenemos lo que hemos gastado en cada producto?\n",
    "2.\t¿Y el gasto medio que hemos realizado en cada uno de ellos?"
   ]
  },
  {
   "cell_type": "code",
   "execution_count": null,
   "metadata": {},
   "outputs": [],
   "source": []
  },
  {
   "cell_type": "markdown",
   "metadata": {},
   "source": [
    "## EJERCICIO 5"
   ]
  },
  {
   "cell_type": "markdown",
   "metadata": {},
   "source": [
    "A partir de la lista ciudades = ['Alicante', 'Elche', 'Valencia', 'Madrid', 'Barcelona', 'Bilbao', 'Sevilla'] crea rdds con las siguientes características:\n",
    "\n",
    "1. Sólo las ciudades que tengan la letra e en su nombre y muéstralas.\n",
    "2. Ciudades que tienen la letra e y el número de veces que aparece en cada nombre.\n",
    "3. Averigua las ciudades que solo tengan una única e.\n",
    "4. Nos han enviado una nueva lista pero no han separado bien las ciudades. Reorganiza la lista y colocalas correctamente, y cuenta las apariciones de la letra e de cada ciudad.\n",
    "\n",
    "    ciudades_mal = [['Alicante.Elche', 'Valencia', 'Madrid.Barcelona', 'Bilbao.Sevilla'], ['Murcia', 'San Sebastián', 'Melilla.Aspe']]"
   ]
  },
  {
   "cell_type": "code",
   "execution_count": null,
   "metadata": {},
   "outputs": [],
   "source": []
  },
  {
   "cell_type": "markdown",
   "metadata": {},
   "source": [
    "## EJERCICIO 6"
   ]
  },
  {
   "cell_type": "markdown",
   "metadata": {},
   "source": [
    "A partir de las siguientes listas:\n",
    "* Inglés: hello, table, angel, cat, dog, animal, chocolate, dark, doctor, hospital, computer\n",
    "* Español: hola, mesa, angel, gato, perro, animal, chocolate, oscuro, doctor, hospital, ordenador\n",
    "\n",
    "Crea un RDD con tuplas de palabras y su traducción: \n",
    "[('hello', 'hola'),\n",
    " ('table', 'mesa'),\n",
    " ('angel', 'angel'),\n",
    " ('cat', 'gato')...]\n",
    "\n",
    "Averigua:\n",
    "1. Palabras que se escriben igual en inglés y en español\n",
    "2. Palabras que en español son distintas que en inglés\n",
    "3. Obtén una única lista con las palabras en ambos idiomas que son distintas entre ellas (['hello', 'hola', 'table', ...)\n",
    "4. Haz dos grupos con todas las palabras, uno con las que empiezan por vocal y otro con las que empiecen por consonante.\n"
   ]
  },
  {
   "cell_type": "code",
   "execution_count": null,
   "metadata": {},
   "outputs": [],
   "source": []
  },
  {
   "cell_type": "markdown",
   "metadata": {},
   "source": [
    "## EJERCICIO 7"
   ]
  },
  {
   "cell_type": "markdown",
   "metadata": {},
   "source": [
    "A partir del fichero de El Quijote:\n",
    "1. Crear un rdd con todas las palabras del documento.\n",
    "2. ¿Cuantas veces aparece la palabra Dulcinea (independientemente de si está en mayúsculas o minúsculas)? ¿Y Rocinante?\n",
    "3. Devuelve una lista ordenada según el número de veces que sale cada palabra de más a menos.\n",
    "4. Guarda el resultado en el disco"
   ]
  },
  {
   "cell_type": "code",
   "execution_count": null,
   "metadata": {},
   "outputs": [],
   "source": []
  },
  {
   "cell_type": "markdown",
   "metadata": {},
   "source": [
    "## EJERCICIO 8"
   ]
  },
  {
   "cell_type": "markdown",
   "metadata": {},
   "source": [
    "Dada una cadena que contiene una lista de nombres Juan, Jimena, Luis, Cristian, Laura, Lorena, Cristina, Jacobo, Jorge:\n",
    "1. Tranforma la cadena en una lista y luego en un RDD\n",
    "2. Agrúpalos según su inicial, de manera que tengamos tuplas formadas por la letra inicial y todos los nombres que comienzan por dicha letra:\n",
    "\n",
    "    [('J', ['Juan', 'Jimena', 'Jacobo', 'Jorge']),\n",
    "\n",
    "    ('L', ['Luis', 'Laura', 'Lorena']),\n",
    "    \n",
    "    ('C', ['Cristian', 'Cristina'])]\n",
    "3. De la lista original, obtén una muestra de 5 elementos sin repetir valores.\n",
    "4. Devuelve una muestra de datos de aproximadamente la mitad de registros que la lista original con datos que pudieran llegar a repetirse."
   ]
  },
  {
   "cell_type": "code",
   "execution_count": null,
   "metadata": {},
   "outputs": [],
   "source": []
  },
  {
   "cell_type": "markdown",
   "metadata": {},
   "source": [
    "## EJERCICIO 9"
   ]
  },
  {
   "cell_type": "markdown",
   "metadata": {},
   "source": [
    "Dada una lista de elementos desordenados y algunos repetidos, mediante rdd devolver una muestra de 5 elementos, que estén en la lista, sin repetir y ordenados descendentemente.\n",
    "\n",
    "lista = [4,6,34,7,9,2,3,4,4,21,4,6,8,9,7,8,5,4,3,22,34,56,98]\n",
    "\n",
    "1. Selecciona el elemento mayor de la lista resultante.\n",
    "2. Muestra los dos elementos menores."
   ]
  },
  {
   "cell_type": "code",
   "execution_count": null,
   "metadata": {},
   "outputs": [],
   "source": []
  },
  {
   "cell_type": "markdown",
   "metadata": {},
   "source": [
    "## EJERCICIO 10"
   ]
  },
  {
   "cell_type": "markdown",
   "metadata": {},
   "source": [
    "En una red social sobre cine, tenemos un fichero ratings.txt compuesta por el código de la película, el código del usuario, la calificación asignada y el TIMESTAMP de la votación con el siguiente formato:\n",
    "\n",
    "1::1193::5::978300760\n",
    "\n",
    "1::661::3::978302109\n",
    "\n",
    "1::914::3::978301968\n",
    "\n",
    "Se pide:\n",
    "1. Obtener para cada película, la nota media de todas sus votaciones.\n",
    "2. Películas cuya nota media sea superior a 3."
   ]
  },
  {
   "cell_type": "code",
   "execution_count": null,
   "metadata": {},
   "outputs": [],
   "source": []
  },
  {
   "cell_type": "markdown",
   "metadata": {},
   "source": [
    "## EJERCICIO 11"
   ]
  },
  {
   "cell_type": "markdown",
   "metadata": {},
   "source": [
    "Tenemos las calificaciones de las asignaturas de matemáticas (notas_mates.txt), inglés (notas_ingles.txt) y física (notas_fisica.txt) de los alumnos del instituto en 3 documentos de texto. A partir de estos ficheros:\n",
    "1. Crea 3 RDD de pares, uno para cada asignatura, con los alumnos y sus notas\n",
    "2. Crea un solo RDD con todas las notas (cada entrada es un usuario con sus tres notas)\n",
    "3. ¿Cuál es la nota más baja que ha tenido cada alumno?\n",
    "4. ¿Cuál es la nota media de cada alumno?\n",
    "5. ¿Cuántos estudiantes suspende cada asignatura?\n",
    "         [('Matemáticas', 7), ('Física', 8), ('Inglés', 7)]\n",
    "6. ¿En qué asignatura suspende más gente?\n",
    "7. Total de notables o sobresalientes por alumno, es decir, cantidad de notas superiores o igual a 7.\n",
    "8. ¿Qué alumno no se ha presentado a inglés?\n",
    "9. ¿A cuántas asignaturas se ha presentado cada alumno?"
   ]
  },
  {
   "cell_type": "code",
   "execution_count": null,
   "metadata": {},
   "outputs": [],
   "source": []
  },
  {
   "cell_type": "markdown",
   "metadata": {},
   "source": [
    "## EJERCICIO 12"
   ]
  },
  {
   "cell_type": "markdown",
   "metadata": {},
   "source": [
    "Realiza las siguientes operaciones:\n",
    "1. Genera un RDD con la siguiente lista [1, 2, 3, 3, 4, 5, 6]\n",
    "2. Multiplica por 2 todos los elementos del RDD anterior\n",
    "3. Filtra el RDD inicial por los elementos pares\n",
    "4. Muestra los elementos unicos del RDD inicial\n",
    "5. Toma los elementos del RDD inicial para multiplicarlos entre si y obtener un resultado"
   ]
  },
  {
   "cell_type": "code",
   "execution_count": null,
   "metadata": {},
   "outputs": [],
   "source": []
  },
  {
   "cell_type": "markdown",
   "metadata": {},
   "source": [
    "## EJERCICIO 13"
   ]
  },
  {
   "cell_type": "markdown",
   "metadata": {},
   "source": [
    "rdd = sc.parallelize([('a', 1), ('a', 2), ('a', 3), ('b', 1)])\n",
    "\n",
    "Realiza las siguientes operaciones:\n",
    "1. Obten la suma de los valores agrupados por el key\n",
    "2. Ordena el RDD inicial en base al key, de forma descendente"
   ]
  },
  {
   "cell_type": "code",
   "execution_count": null,
   "metadata": {},
   "outputs": [],
   "source": []
  },
  {
   "cell_type": "markdown",
   "metadata": {},
   "source": [
    "## EJERCICIO 14"
   ]
  },
  {
   "cell_type": "markdown",
   "metadata": {},
   "source": [
    "data= ['Python', 'Scala', 'Python', 'R', 'Python', 'Java', 'R' ]\n",
    "\n",
    "rdd= sc.parallelize(data)\n",
    "\n",
    "Cuenta cuantas veces aparece cada valor"
   ]
  },
  {
   "cell_type": "code",
   "execution_count": null,
   "metadata": {},
   "outputs": [],
   "source": []
  }
 ],
 "metadata": {
  "kernelspec": {
   "display_name": "CloneSAPA",
   "language": "python",
   "name": "python3"
  },
  "language_info": {
   "codemirror_mode": {
    "name": "ipython",
    "version": 3
   },
   "file_extension": ".py",
   "mimetype": "text/x-python",
   "name": "python",
   "nbconvert_exporter": "python",
   "pygments_lexer": "ipython3",
   "version": "3.12.8"
  }
 },
 "nbformat": 4,
 "nbformat_minor": 2
}
