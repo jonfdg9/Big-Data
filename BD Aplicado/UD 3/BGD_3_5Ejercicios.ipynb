{
 "cells": [
  {
   "cell_type": "markdown",
   "metadata": {},
   "source": [
    "# EJERCICIOS"
   ]
  },
  {
   "cell_type": "code",
   "execution_count": 28,
   "metadata": {},
   "outputs": [],
   "source": [
    "import pandas as pd\n",
    "from pyspark.sql import SparkSession\n",
    "\n",
    "spark = SparkSession.builder.master(\"local[*]\").appName(\"pyspark_rdd\").getOrCreate()\n",
    "#spark = SparkSession.builder.getOrCreate()\n",
    "sc = spark.sparkContext"
   ]
  },
  {
   "cell_type": "markdown",
   "metadata": {},
   "source": [
    "## EJERCICIO 0\n",
    "En un documento word haz una lista de las diferentes operaciones con una breve descripción de lo que hace y un ejemplo de como se utiliza (justo la parte donde se utiliza sin contexto).\n"
   ]
  },
  {
   "cell_type": "markdown",
   "metadata": {},
   "source": [
    "**Operaciones en PySpark**\n",
    "\n",
    "1. **map**: Aplica una función a todos los elementos de un RDD.\n",
    "   ```python\n",
    "   rdd.map(lambda x: x * 2)\n",
    "   ```\n",
    "\n",
    "2. **filter**: Filtra los elementos de un RDD según una condición.\n",
    "   ```python\n",
    "   rdd.filter(lambda x: x % 2 == 0)\n",
    "   ```\n",
    "\n",
    "3. **flatMap**: Aplica una función y aplana los resultados en un solo RDD.\n",
    "   ```python\n",
    "   rdd.flatMap(lambda x: x.split(\" \"))\n",
    "   ```\n",
    "\n",
    "4. **reduce**: Aplica una función de reducción a los elementos de un RDD.\n",
    "   ```python\n",
    "   rdd.reduce(lambda a, b: a + b)\n",
    "   ```\n",
    "\n",
    "5. **reduceByKey**: Aplica una función de reducción a los valores con la misma clave en un RDD de pares clave-valor.\n",
    "   ```python\n",
    "   rdd.reduceByKey(lambda a, b: a + b)\n",
    "   ```\n",
    "\n",
    "6. **groupByKey**: Agrupa los valores de un RDD de pares clave-valor por clave.\n",
    "   ```python\n",
    "   rdd.groupByKey()\n",
    "   ```\n",
    "\n",
    "7. **sortBy**: Ordena los elementos de un RDD según una función clave.\n",
    "   ```python\n",
    "   rdd.sortBy(lambda x: x[1])\n",
    "   ```\n",
    "\n",
    "8. **distinct**: Devuelve los elementos únicos de un RDD.\n",
    "   ```python\n",
    "   rdd.distinct()\n",
    "   ```\n",
    "\n",
    "9. **count**: Cuenta la cantidad de elementos en un RDD.\n",
    "   ```python\n",
    "   rdd.count()\n",
    "   ```\n",
    "\n",
    "10. **collect**: Recupera todos los elementos de un RDD en una lista.\n",
    "   ```python\n",
    "      rdd.collect()\n",
    "   ```\n",
    "\n",
    "11. **take**: Devuelve los primeros N elementos de un RDD.\n",
    "   ```python\n",
    "      rdd.take(5)\n",
    "   ```\n",
    "\n",
    "12. **first**: Devuelve el primer elemento de un RDD.\n",
    "   ```python\n",
    "      rdd.first()\n",
    "   ```\n",
    "\n",
    "13. **union**: Une dos RDDs en uno solo.\n",
    "   ```python\n",
    "      rdd1.union(rdd2)\n",
    "   ```\n",
    "\n",
    "14. **intersection**: Devuelve los elementos comunes entre dos RDDs.\n",
    "   ```python\n",
    "      rdd1.intersection(rdd2)\n",
    "   ```\n",
    "\n",
    "15. **subtract**: Devuelve los elementos del primer RDD que no están en el segundo.\n",
    "   ```python\n",
    "      rdd1.subtract(rdd2)\n",
    "   ```\n",
    "\n",
    "16. **join**: Une dos RDDs de pares clave-valor por clave.\n",
    "   ```python\n",
    "      rdd1.join(rdd2)\n",
    "   ```\n",
    "\n",
    "17. **coalesce**: Reduce el número de particiones de un RDD.\n",
    "   ```python\n",
    "      rdd.coalesce(2)\n",
    "   ```\n",
    "\n",
    "18. **repartition**: Redistribuye los datos en un RDD en un número específico de particiones.\n",
    "   ```python\n",
    "      rdd.repartition(4)\n",
    "   ```\n",
    "\n",
    "19. **cache**: Almacena en caché un RDD para evitar recomputaciones.\n",
    "   ```python\n",
    "      rdd.cache()\n",
    "   ```\n",
    "\n",
    "20. **persist**: Almacena un RDD en un nivel específico de almacenamiento.\n",
    "   ```python\n",
    "      rdd.persist()\n",
    "   ```\n",
    "\n"
   ]
  },
  {
   "cell_type": "markdown",
   "metadata": {},
   "source": [
    "## EJERCICIO 1"
   ]
  },
  {
   "cell_type": "markdown",
   "metadata": {},
   "source": [
    "Si tenemos dos RDD (A y B):\n",
    "* rddA = sc.parallelize([1,2,3,4])\n",
    "* rddB = sc.parallelize([3,4,5,6])\n",
    "\n",
    "¿Cómo conseguimos los elementos que están en A y no B y los de B que no están en A? (es decir [1, 2, 5, 6]):"
   ]
  },
  {
   "cell_type": "code",
   "execution_count": 2,
   "metadata": {},
   "outputs": [
    {
     "name": "stderr",
     "output_type": "stream",
     "text": [
      "[Stage 0:===============> (40 + 4) / 44][Stage 1:======>         (17 + 24) / 44]\r"
     ]
    },
    {
     "name": "stdout",
     "output_type": "stream",
     "text": [
      "[1, 2, 5, 6]\n"
     ]
    },
    {
     "name": "stderr",
     "output_type": "stream",
     "text": [
      "                                                                                \r"
     ]
    }
   ],
   "source": [
    "rddA = sc.parallelize([1,2,3,4])\n",
    "rddB = sc.parallelize([3,4,5,6])\n",
    "diff_A_B = rddA.subtract(rddB)\n",
    "diff_B_A = rddB.subtract(rddA)\n",
    "\n",
    "rdd_Diff=diff_A_B.union(diff_B_A)\n",
    "print(rdd_Diff.collect())"
   ]
  },
  {
   "cell_type": "markdown",
   "metadata": {},
   "source": [
    "## EJERCICIO 2"
   ]
  },
  {
   "cell_type": "markdown",
   "metadata": {},
   "source": [
    "A partir de la lista implicita en el string \"Perro Gato Loro Pez León Tortuga Gallina\"\n",
    "1.\tCrea un RDD a partir de esta lista\n",
    "2.\tConvierte el RDD normal en un RDD de pares cuya clave sea la primera letra del animal\n",
    "3.\tCrea otro RDD de pares pero poniendo como clave un número incremental\n",
    "4.\t¿Y si queremos que el índice incremental empiece en 100?\n"
   ]
  },
  {
   "cell_type": "code",
   "execution_count": 3,
   "metadata": {},
   "outputs": [
    {
     "name": "stdout",
     "output_type": "stream",
     "text": [
      "['Perro', 'Gato', 'Loro', 'Pez', 'León', 'Tortuga', 'Gallina']\n",
      "[('P', 'Perro'), ('G', 'Gato'), ('L', 'Loro'), ('P', 'Pez'), ('L', 'León'), ('T', 'Tortuga'), ('G', 'Gallina')]\n",
      "[(0, 'Perro'), (1, 'Gato'), (2, 'Loro'), (3, 'Pez'), (4, 'León'), (5, 'Tortuga'), (6, 'Gallina')]\n",
      "[(100, 'Perro'), (101, 'Gato'), (102, 'Loro'), (103, 'Pez'), (104, 'León'), (105, 'Tortuga'), (106, 'Gallina')]\n"
     ]
    }
   ],
   "source": [
    "lista=\"Perro Gato Loro Pez León Tortuga Gallina\"\n",
    "rdd_lista = sc.parallelize(lista.split())\n",
    "print(rdd_lista.collect())\n",
    "\n",
    "rdd_claves = rdd_lista.map(lambda x: (x[0],x))\n",
    "print(rdd_claves.collect())\n",
    "\n",
    "rdd_claves2 = rdd_lista.zipWithIndex().map(lambda x: (x[1],x[0]))\n",
    "print(rdd_claves2.collect())\n",
    "\n",
    "rdd_claves3 = rdd_lista.zipWithIndex().map(lambda x: (x[1]+100,x[0]))\n",
    "print(rdd_claves3.collect())\n"
   ]
  },
  {
   "cell_type": "markdown",
   "metadata": {},
   "source": [
    "## EJERCICIO 3"
   ]
  },
  {
   "cell_type": "markdown",
   "metadata": {},
   "source": [
    "Dada la siguiente lista de compra:\n",
    "\n",
    "lista = [('pan',3), ('agua',2), ('azúcar',1), ('leche',2), ('pan',1), ('cereales',3), ('agua',0.5), ('leche',2), ('filetes',5)]\n",
    "\n",
    "Calcula:\n",
    "1.\tEl total que se ha gastado por cada producto\n",
    "2.\tCuánto es lo máximo que se ha pagado por cada producto"
   ]
  },
  {
   "cell_type": "code",
   "execution_count": null,
   "metadata": {},
   "outputs": [
    {
     "name": "stdout",
     "output_type": "stream",
     "text": [
      "[('pan', 3), ('agua', 2), ('azúcar', 1), ('leche', 2), ('pan', 1), ('cereales', 3), ('agua', 0.5), ('leche', 2), ('filetes', 5)]\n",
      "Total gastado por producto:\n",
      "pan: 4\n",
      "cereales: 3\n",
      "agua: 2.5\n",
      "azúcar: 1\n",
      "filetes: 5\n",
      "leche: 4\n",
      "\n",
      "Máximo pagado en una sola compra por producto:\n",
      "pan: 3\n",
      "cereales: 3\n",
      "agua: 2\n",
      "azúcar: 1\n",
      "filetes: 5\n",
      "leche: 2\n"
     ]
    }
   ],
   "source": [
    "lista = [('pan',3), ('agua',2), ('azúcar',1), ('leche',2), ('pan',1), ('cereales',3), ('agua',0.5), ('leche',2), ('filetes',5)]\n",
    "\n",
    "rdd_comida = sc.parallelize(lista)\n",
    "print(rdd_comida.collect())\n",
    "\n",
    "total_por_producto = rdd_comida.reduceByKey(lambda x,y: x+y)\n",
    "max_por_producto = rdd_comida.reduceByKey(lambda x,y: max(x,y))\n",
    "\n",
    "print(\"Total gastado por producto:\")\n",
    "for producto, total in total_por_producto.collect():\n",
    "    print(f\"{producto}: {total}\")\n",
    "\n",
    "print(\"\\nMáximo pagado en una sola compra por producto:\")\n",
    "for producto, maximo in max_por_producto.collect():\n",
    "    print(f\"{producto}: {maximo}\")"
   ]
  },
  {
   "cell_type": "markdown",
   "metadata": {},
   "source": [
    "## EJERCICIO 4"
   ]
  },
  {
   "cell_type": "markdown",
   "metadata": {},
   "source": [
    "Ahora tenemos las cuentas de las compras de 3 días:\n",
    "* día 1: pan 3€, agua 2€, azúcar 1€, leche 2€, pan 4€\n",
    "* día 2: pan 1€, cereales 3€, agua 0.5€, leche 2€, filetes 5€\n",
    "* día 3: filetes 2€, cereales 1€\n",
    "\n",
    "Dada la siguiente lista de compra:\n",
    "\n",
    "- dia1 = [('pan',3), ('agua',2), ('azúcar',1), ('leche',2), ('pan',4)]\n",
    "- dia2 = [('pan',1), ('cereales',3), ('agua',0.5), ('leche',2), ('filetes',5)]\n",
    "- dia3 = [('filetes',2), ('cereales',1)]\n",
    "\n",
    "Responde:\n",
    "1.\t¿Cómo obtenemos lo que hemos gastado en cada producto?\n",
    "2.\t¿Y el gasto medio que hemos realizado en cada uno de ellos?"
   ]
  },
  {
   "cell_type": "code",
   "execution_count": null,
   "metadata": {},
   "outputs": [
    {
     "name": "stdout",
     "output_type": "stream",
     "text": [
      "[('pan', 3), ('agua', 2), ('azúcar', 1), ('leche', 2), ('pan', 4), ('pan', 1), ('cereales', 3), ('agua', 0.5), ('leche', 2), ('filetes', 5), ('filetes', 2), ('cereales', 1)]\n",
      "Total gastado por producto:\n",
      "azúcar: 1€\n",
      "filetes: 7€\n",
      "cereales: 4€\n",
      "pan: 8€\n",
      "agua: 2.5€\n",
      "leche: 4€\n",
      "\n",
      "Gasto medio por producto:\n",
      "azúcar: 0.33€\n",
      "filetes: 2.33€\n",
      "cereales: 1.33€\n",
      "pan: 2.67€\n",
      "agua: 0.83€\n",
      "leche: 1.33€\n"
     ]
    }
   ],
   "source": [
    "dia1 = [('pan',3), ('agua',2), ('azúcar',1), ('leche',2), ('pan',4)]\n",
    "dia2 = [('pan',1), ('cereales',3), ('agua',0.5), ('leche',2), ('filetes',5)]\n",
    "dia3 = [('filetes',2), ('cereales',1)]\n",
    "\n",
    "rdd_dia1 = sc.parallelize(dia1)\n",
    "rdd_dia2 = sc.parallelize(dia2)\n",
    "rdd_dia3 = sc.parallelize(dia3)\n",
    "\n",
    "rdd_dias = rdd_dia1.union(rdd_dia2).union(rdd_dia3)\n",
    "print(rdd_dias.collect())\n",
    "\n",
    "total_por_producto = rdd_dias.reduceByKey(lambda x,y: x+y)\n",
    "gasto_medio = total_por_producto.mapValues(lambda x: x/3)\n",
    "\n",
    "print(\"Total gastado por producto:\")\n",
    "for producto, total in total_por_producto.collect():\n",
    "    print(f\"{producto}: {total}€\")\n",
    "\n",
    "print(\"\\nGasto medio por producto:\")\n",
    "for producto, total in gasto_medio.collect():\n",
    "    print(f\"{producto}: {total:.2f}€\")"
   ]
  },
  {
   "cell_type": "markdown",
   "metadata": {},
   "source": [
    "## EJERCICIO 5"
   ]
  },
  {
   "cell_type": "markdown",
   "metadata": {},
   "source": [
    "A partir de la lista ciudades = ['Alicante', 'Elche', 'Valencia', 'Madrid', 'Barcelona', 'Bilbao', 'Sevilla'] crea rdds con las siguientes características:\n",
    "\n",
    "1. Sólo las ciudades que tengan la letra e en su nombre y muéstralas.\n",
    "2. Ciudades que tienen la letra e y el número de veces que aparece en cada nombre.\n",
    "3. Averigua las ciudades que solo tengan una única e.\n",
    "4. Nos han enviado una nueva lista pero no han separado bien las ciudades. Reorganiza la lista y colocalas correctamente, y cuenta las apariciones de la letra e de cada ciudad.\n",
    "\n",
    "    ciudades_mal = [['Alicante.Elche', 'Valencia', 'Madrid.Barcelona', 'Bilbao.Sevilla'], ['Murcia', 'San Sebastián', 'Melilla.Aspe']]"
   ]
  },
  {
   "cell_type": "code",
   "execution_count": 6,
   "metadata": {},
   "outputs": [
    {
     "name": "stdout",
     "output_type": "stream",
     "text": [
      "['Alicante', 'Elche', 'Valencia', 'Barcelona', 'Sevilla']\n",
      "[('Alicante', 1), ('Elche', 2), ('Valencia', 1), ('Barcelona', 1), ('Sevilla', 1)]\n",
      "[('Alicante', 1), ('Valencia', 1), ('Barcelona', 1), ('Sevilla', 1)]\n"
     ]
    }
   ],
   "source": [
    "ciudades = ['Alicante', 'Elche', 'Valencia', 'Madrid', 'Barcelona', 'Bilbao', 'Sevilla']\n",
    "rdd_ciudades = sc.parallelize(ciudades)\n",
    "rdd_e= rdd_ciudades.filter(lambda x: 'e' in x)\n",
    "print(rdd_e.collect())\n",
    "rdd_e_suma = rdd_e.map(lambda x: (x , x.lower().count('e')))\n",
    "print(rdd_e_suma.collect())\n",
    "rdd_e_1 = rdd_e_suma.filter(lambda x: x[1]==1)\n",
    "print(rdd_e_1.collect())\n",
    "\n"
   ]
  },
  {
   "cell_type": "code",
   "execution_count": null,
   "metadata": {},
   "outputs": [
    {
     "name": "stdout",
     "output_type": "stream",
     "text": [
      "[('Alicante', 1), ('Elche', 2), ('Valencia', 1), ('Madrid', 0), ('Barcelona', 1), ('Bilbao', 0), ('Sevilla', 1), ('Murcia', 0), ('San Sebastián', 1), ('Melilla', 1), ('Aspe', 1)]\n"
     ]
    }
   ],
   "source": [
    "ciudades_mal = [['Alicante.Elche', 'Valencia', 'Madrid.Barcelona', 'Bilbao.Sevilla'], ['Murcia', 'San Sebastián', 'Melilla.Aspe']]\n",
    "\n",
    "rdd_ciudades_mal = sc.parallelize(ciudades_mal)\n",
    "\n",
    "rdd_ciudades_separar_punto = rdd_ciudades_mal.map(lambda x: [ciudad.split('.') for ciudad in x])\n",
    "\n",
    "rdd_ciudades2 = rdd_ciudades_separar_punto.flatMap(lambda x: x)\n",
    "\n",
    "rdd_e_ciudades = rdd_ciudades2.flatMap(lambda x: [ (ciudad, ciudad.lower().count('e')) for ciudad in x])\n",
    "\n",
    "print(rdd_e_ciudades.collect())\n"
   ]
  },
  {
   "cell_type": "markdown",
   "metadata": {},
   "source": [
    "## EJERCICIO 6"
   ]
  },
  {
   "cell_type": "markdown",
   "metadata": {},
   "source": [
    "A partir de las siguientes listas:\n",
    "* Inglés: hello, table, angel, cat, dog, animal, chocolate, dark, doctor, hospital, computer\n",
    "* Español: hola, mesa, angel, gato, perro, animal, chocolate, oscuro, doctor, hospital, ordenador\n",
    "\n",
    "Crea un RDD con tuplas de palabras y su traducción: \n",
    "[('hello', 'hola'),\n",
    " ('table', 'mesa'),\n",
    " ('angel', 'angel'),\n",
    " ('cat', 'gato')...]\n",
    "\n",
    "Averigua:\n",
    "1. Palabras que se escriben igual en inglés y en español\n",
    "2. Palabras que en español son distintas que en inglés\n",
    "3. Obtén una única lista con las palabras en ambos idiomas que son distintas entre ellas (['hello', 'hola', 'table', ...)\n",
    "4. Haz dos grupos con todas las palabras, uno con las que empiezan por vocal y otro con las que empiecen por consonante.\n"
   ]
  },
  {
   "cell_type": "code",
   "execution_count": 8,
   "metadata": {},
   "outputs": [
    {
     "name": "stdout",
     "output_type": "stream",
     "text": [
      "[('angel', 'angel'), ('animal', 'animal'), ('chocolate', 'chocolate'), ('doctor', 'doctor'), ('hospital', 'hospital')]\n",
      "[('hello', 'hola'), ('table', 'mesa'), ('cat', 'gato'), ('dog', 'perro'), ('dark', 'oscuro'), ('computer', 'ordenador')]\n",
      "['hello', 'hola', 'table', 'mesa', 'cat', 'gato', 'dog', 'perro', 'dark', 'oscuro', 'computer', 'ordenador']\n",
      "[(0, ['angel', 'angel', 'animal', 'animal', 'oscuro', 'ordenador']), (1, ['hello', 'hola', 'table', 'mesa', 'cat', 'gato', 'dog', 'perro', 'chocolate', 'chocolate', 'dark', 'doctor', 'doctor', 'hospital', 'hospital', 'computer'])]\n"
     ]
    }
   ],
   "source": [
    "ingles= ['hello', 'table', 'angel', 'cat', 'dog', 'animal', 'chocolate', 'dark', 'doctor', 'hospital', 'computer']\n",
    "español=['hola', 'mesa', 'angel', 'gato', 'perro', 'animal', 'chocolate', 'oscuro', 'doctor', 'hospital', 'ordenador']\n",
    "\n",
    "rdd_ingles = sc.parallelize(ingles)\n",
    "rdd_español = sc.parallelize(español)\n",
    "\n",
    "rdd_tupla= rdd_ingles.zip(rdd_español)\n",
    "\n",
    "rdd_traduccion_igual = rdd_tupla.filter(lambda x: x[0]==x[1])\n",
    "print(rdd_traduccion_igual.collect())\n",
    "\n",
    "rdd_distintos=rdd_tupla.filter(lambda x: x[0]!=x[1])\n",
    "print(rdd_distintos.collect())\n",
    "\n",
    "rdd_distintos_lista = rdd_distintos.flatMap(lambda x: [x[0],x[1]])\n",
    "print(rdd_distintos_lista.collect())\n",
    "\n",
    "vocal = ['a','e','i','o','u']\n",
    "\n",
    "rdd_grupos = rdd_tupla.flatMap(lambda x: [x[0],x[1]]).groupBy(lambda x: 0 if x[0][0].lower() in vocal else 1)\n",
    "resultado = rdd_grupos.mapValues(list).collect()\n",
    "\n",
    "print(resultado)\n",
    "\n"
   ]
  },
  {
   "cell_type": "markdown",
   "metadata": {},
   "source": [
    "## EJERCICIO 7"
   ]
  },
  {
   "cell_type": "markdown",
   "metadata": {},
   "source": [
    "A partir del fichero de El Quijote:\n",
    "1. Crear un rdd con todas las palabras del documento.\n",
    "2. ¿Cuantas veces aparece la palabra Dulcinea (independientemente de si está en mayúsculas o minúsculas)? ¿Y Rocinante?\n",
    "3. Devuelve una lista ordenada según el número de veces que sale cada palabra de más a menos.\n",
    "4. Guarda el resultado en el disco"
   ]
  },
  {
   "cell_type": "code",
   "execution_count": 12,
   "metadata": {},
   "outputs": [
    {
     "name": "stdout",
     "output_type": "stream",
     "text": [
      "['DON', 'QUIJOTE', 'DE', 'LA', 'MANCHA', 'Miguel', 'de', 'Cervantes', 'Saavedra', 'PRIMERA']\n",
      "47\n",
      "43\n",
      "[('que', 10351), ('de', 8947), ('y', 8042), ('la', 4941), ('a', 4725), ('en', 3883), ('el', 3726), ('no', 2786), ('se', 2382), ('los', 2122)]\n"
     ]
    }
   ],
   "source": [
    "rdd = sc.textFile(\"./el_quijote.txt\")\n",
    "rdd_palabras = rdd.flatMap(lambda x: x.split())\n",
    "print(rdd_palabras.take(10))\n",
    "\n",
    "rdd_dulcinea = rdd_palabras.filter(lambda x: x.lower() == 'dulcinea')\n",
    "print(rdd_dulcinea.count())\n",
    "\n",
    "rdd_rocinante = rdd_palabras.filter(lambda x: x.lower() == 'rocinante')\n",
    "print(rdd_rocinante.count())\n",
    "\n",
    "rdd_palabra_count_desc = rdd_palabras.map(lambda x: (x,1)).reduceByKey(lambda x,y: x+y).sortBy(lambda x: x[1],ascending=False)\n",
    "print(rdd_palabra_count_desc.take(10))\n",
    "\n",
    "#Guardar el resultado en el disco\n",
    "rdd_palabra_count_desc.saveAsTextFile(\"./resultado\")"
   ]
  },
  {
   "cell_type": "markdown",
   "metadata": {},
   "source": [
    "## EJERCICIO 8"
   ]
  },
  {
   "cell_type": "markdown",
   "metadata": {},
   "source": [
    "Dada una cadena que contiene una lista de nombres Juan, Jimena, Luis, Cristian, Laura, Lorena, Cristina, Jacobo, Jorge:\n",
    "1. Tranforma la cadena en una lista y luego en un RDD\n",
    "2. Agrúpalos según su inicial, de manera que tengamos tuplas formadas por la letra inicial y todos los nombres que comienzan por dicha letra:\n",
    "\n",
    "    [('J', ['Juan', 'Jimena', 'Jacobo', 'Jorge']),\n",
    "\n",
    "    ('L', ['Luis', 'Laura', 'Lorena']),\n",
    "    \n",
    "    ('C', ['Cristian', 'Cristina'])]\n",
    "3. De la lista original, obtén una muestra de 5 elementos sin repetir valores.\n",
    "4. Devuelve una muestra de datos de aproximadamente la mitad de registros que la lista original con datos que pudieran llegar a repetirse."
   ]
  },
  {
   "cell_type": "code",
   "execution_count": 13,
   "metadata": {},
   "outputs": [
    {
     "name": "stdout",
     "output_type": "stream",
     "text": [
      "['Juan', 'Jimena', 'Luis', 'Cristian', 'Laura', 'Lorena', 'Cristina', 'Jacobo', 'Jorge']\n",
      "[('C', ['Cristian', 'Cristina']), ('L', ['Luis', 'Laura', 'Lorena']), ('J', ['Juan', 'Jimena', 'Jacobo', 'Jorge'])]\n",
      "['Cristian', 'Cristina', 'Jacobo', 'Laura', 'Jorge']\n",
      "['Jimena', 'Cristian', 'Cristian', 'Cristian', 'Jacobo']\n"
     ]
    }
   ],
   "source": [
    "nombres= \"Juan, Jimena, Luis, Cristian, Laura, Lorena, Cristina, Jacobo, Jorge\"\n",
    "\n",
    "rdd_nombres = sc.parallelize(nombres.split(\", \"))\n",
    "print(rdd_nombres.collect())\n",
    "\n",
    "rdd_agrupados = rdd_nombres.groupBy(lambda nombre: nombre[0])\n",
    "\n",
    "agrupados = rdd_agrupados.mapValues(list).collect()\n",
    "print(agrupados)\n",
    "\n",
    "muestra_sin_repetir = rdd_nombres.takeSample(False, 5, seed=42)\n",
    "print(muestra_sin_repetir)\n",
    "\n",
    "muestra_con_repeticion = rdd_nombres.sample(True, 0.5, seed=42).collect()\n",
    "print(muestra_con_repeticion)"
   ]
  },
  {
   "cell_type": "markdown",
   "metadata": {},
   "source": [
    "## EJERCICIO 9"
   ]
  },
  {
   "cell_type": "markdown",
   "metadata": {},
   "source": [
    "Dada una lista de elementos desordenados y algunos repetidos, mediante rdd devolver una muestra de 5 elementos, que estén en la lista, sin repetir y ordenados descendentemente.\n",
    "\n",
    "lista = [4,6,34,7,9,2,3,4,4,21,4,6,8,9,7,8,5,4,3,22,34,56,98]\n",
    "\n",
    "1. Selecciona el elemento mayor de la lista resultante.\n",
    "2. Muestra los dos elementos menores."
   ]
  },
  {
   "cell_type": "code",
   "execution_count": 14,
   "metadata": {},
   "outputs": [
    {
     "name": "stdout",
     "output_type": "stream",
     "text": [
      "[98, 56, 34, 22, 21]\n",
      "98\n",
      "[22, 21]\n"
     ]
    }
   ],
   "source": [
    "lista = [4,6,34,7,9,2,3,4,4,21,4,6,8,9,7,8,5,4,3,22,34,56,98]\n",
    "\n",
    "rdd = sc.parallelize(lista)\n",
    "\n",
    "rdd_distinct = rdd.distinct()\n",
    "rdd_orden_desc = rdd_distinct.sortBy(lambda x: x, ascending=False)\n",
    "\n",
    "muestra = rdd_orden_desc.take(5)\n",
    "print(muestra)\n",
    "\n",
    "\n",
    "mayor = muestra[0]\n",
    "print(mayor)\n",
    "dos_menores = muestra[-2:]\n",
    "print(dos_menores)"
   ]
  },
  {
   "cell_type": "markdown",
   "metadata": {},
   "source": [
    "## EJERCICIO 10"
   ]
  },
  {
   "cell_type": "markdown",
   "metadata": {},
   "source": [
    "En una red social sobre cine, tenemos un fichero ratings.txt compuesta por el código de la película, el código del usuario, la calificación asignada y el TIMESTAMP de la votación con el siguiente formato:\n",
    "\n",
    "1::1193::5::978300760\n",
    "\n",
    "1::661::3::978302109\n",
    "\n",
    "1::914::3::978301968\n",
    "\n",
    "Se pide:\n",
    "1. Obtener para cada película, la nota media de todas sus votaciones.\n",
    "2. Películas cuya nota media sea superior a 3."
   ]
  },
  {
   "cell_type": "code",
   "execution_count": 15,
   "metadata": {},
   "outputs": [
    {
     "name": "stdout",
     "output_type": "stream",
     "text": [
      "[('3', 4.253844368250714), ('4', 4.8599090576171875), ('5', 3.293398257510824), ('6', 4.000726767205338), ('7', 3.8326099272817373), ('10', 4.244639060181543), ('13', 3.508077662177371), ('14', 3.263818144798279), ('15', 3.522758386599256), ('16', 4.447707879415248), ('17', 4.533270462423108), ('18', 4.709092693083274), ('21', 1.421952247619629), ('22', 3.464138641725664), ('24', 3.2736965687729143)]\n",
      "[('3', 4.253844368250714), ('4', 4.8599090576171875), ('5', 3.293398257510824), ('6', 4.000726767205338), ('7', 3.8326099272817373), ('10', 4.244639060181543), ('13', 3.508077662177371), ('14', 3.263818144798279), ('15', 3.522758386599256), ('16', 4.447707879415248), ('17', 4.533270462423108), ('18', 4.709092693083274), ('22', 3.464138641725664), ('24', 3.2736965687729143), ('26', 3.0175744637972466)]\n"
     ]
    }
   ],
   "source": [
    "rdd = sc.textFile(\"./ratings.txt\")\n",
    "\n",
    "rdd_campos = rdd.map(lambda line: line.split(\"::\"))\n",
    "\n",
    "rdd_movie_rating = rdd_campos.map(lambda campos: (campos[0], float(campos[2])))\n",
    "rdd_movie_rating = rdd_movie_rating.reduceByKey(lambda x,y: (x+y)/2)\n",
    "print(rdd_movie_rating.take(15))\n",
    "\n",
    "rdd_movie_rating_mayor_3 = rdd_movie_rating.filter(lambda x: x[1]>3)\n",
    "print(rdd_movie_rating_mayor_3.take(15))\n"
   ]
  },
  {
   "cell_type": "markdown",
   "metadata": {},
   "source": [
    "## EJERCICIO 11"
   ]
  },
  {
   "cell_type": "markdown",
   "metadata": {},
   "source": [
    "Tenemos las calificaciones de las asignaturas de matemáticas (notas_mates.txt), inglés (notas_ingles.txt) y física (notas_fisica.txt) de los alumnos del instituto en 3 documentos de texto. A partir de estos ficheros:\n",
    "1. Crea 3 RDD de pares, uno para cada asignatura, con los alumnos y sus notas\n",
    "2. Crea un solo RDD con todas las notas (cada entrada es un usuario con sus tres notas)\n",
    "3. ¿Cuál es la nota más baja que ha tenido cada alumno?\n",
    "4. ¿Cuál es la nota media de cada alumno?\n",
    "5. ¿Cuántos estudiantes suspende cada asignatura?\n",
    "         [('Matemáticas', 7), ('Física', 8), ('Inglés', 7)]\n",
    "6. ¿En qué asignatura suspende más gente?\n",
    "7. Total de notables o sobresalientes por alumno, es decir, cantidad de notas superiores o igual a 7.\n",
    "8. ¿Qué alumno no se ha presentado a inglés?\n",
    "9. ¿A cuántas asignaturas se ha presentado cada alumno?"
   ]
  },
  {
   "cell_type": "code",
   "execution_count": 31,
   "metadata": {},
   "outputs": [
    {
     "name": "stdout",
     "output_type": "stream",
     "text": [
      "[('Pedro', [2.0, 5.0]), ('Jose Juan', [3.0, 5.0, 3.0]), ('Ramon', [7.0, 4.5, 8.0]), ('Anabel', [2.0, 8.0, 7.0]), ('Andres', [4.0, 4.0, 6.0]), ('Oscar', [5.0, 7.0, 3.0]), ('Rosa', [8.0, 6.0, 9.0]), ('Susana', [9.0, 9.0, 2.0]), ('Rocio', [7.0, 6.0, 4.0]), ('Leonardo', [6.0, 1.0, 4.0]), ('Angel', [9.0, 6.0, 4.0]), ('Jorge', [5.0, 10.0, 5.0]), ('Carlos', [4.0, 4.0, 8.0]), ('Fernando', [9.0, 5.0, 7.0]), ('Isabel', [8.0, 8.0, 7.0]), ('Triana', [3.0, 3.0, 4.0]), ('Alejandro', [3.0, 5.0, 7.0]), ('Maria', [3.0, 2.0, 6.0]), ('Nicolas', [7.0, 2.0, 5.0])]\n",
      "[('Pedro', 2.0), ('Jose Juan', 3.0), ('Ramon', 4.5), ('Anabel', 2.0), ('Andres', 4.0), ('Oscar', 3.0), ('Rosa', 6.0), ('Susana', 2.0), ('Rocio', 4.0), ('Leonardo', 1.0), ('Angel', 4.0), ('Jorge', 5.0), ('Carlos', 4.0), ('Fernando', 5.0), ('Isabel', 7.0), ('Triana', 3.0), ('Alejandro', 3.0), ('Maria', 2.0), ('Nicolas', 2.0)]\n",
      "[('Pedro', 3.5), ('Jose Juan', 3.6666666666666665), ('Ramon', 6.5), ('Anabel', 5.666666666666667), ('Andres', 4.666666666666667), ('Oscar', 5.0), ('Rosa', 7.666666666666667), ('Susana', 6.666666666666667), ('Rocio', 5.666666666666667), ('Leonardo', 3.6666666666666665), ('Angel', 6.333333333333333), ('Jorge', 6.666666666666667), ('Carlos', 5.333333333333333), ('Fernando', 7.0), ('Isabel', 7.666666666666667), ('Triana', 3.3333333333333335), ('Alejandro', 5.0), ('Maria', 3.6666666666666665), ('Nicolas', 4.666666666666667)]\n",
      "[('Física', 8), ('Matemáticas', 7), ('Inglés', 7)]\n",
      "[('Física', 8)]\n",
      "20\n",
      "['Pedro']\n",
      "[('Pedro', 2), ('Jose Juan', 3), ('Ramon', 3), ('Anabel', 3), ('Andres', 3), ('Oscar', 3), ('Rosa', 3), ('Susana', 3), ('Rocio', 3), ('Leonardo', 3), ('Angel', 3), ('Jorge', 3), ('Carlos', 3), ('Fernando', 3), ('Isabel', 3), ('Triana', 3), ('Alejandro', 3), ('Maria', 3), ('Nicolas', 3)]\n"
     ]
    }
   ],
   "source": [
    "rdd_fisica = sc.textFile(\"notas_fisica.txt\")\n",
    "rdd_fisica = rdd_fisica.map(lambda x: x.split(\",\")).map(lambda x: (x[0], float(x[1])))\n",
    "\n",
    "rdd_mates = sc.textFile(\"notas_mates.txt\")\n",
    "rdd_mates = rdd_mates.map(lambda x: x.split(\",\")).map(lambda x: (x[0], float(x[1])))\n",
    "\n",
    "rdd_ingles = sc.textFile(\"notas_ingles.txt\")\n",
    "rdd_ingles = rdd_ingles.map(lambda x: x.split(\",\")).map(lambda x: (x[0], float(x[1])))\n",
    "\n",
    "rdd_notas = rdd_fisica.union(rdd_mates).union(rdd_ingles)\n",
    "rdd_notas= rdd_notas.groupByKey().mapValues(list)\n",
    "print(rdd_notas.collect())\n",
    "\n",
    "rdd_nota_mas_baja = rdd_notas.mapValues(lambda x: min(x))\n",
    "print(rdd_nota_mas_baja.collect())\n",
    "\n",
    "rdd_nota_media = rdd_notas.mapValues(lambda x: sum(x) / len(x))\n",
    "print(rdd_nota_media.collect())\n",
    "\n",
    "suspensos_fisica = rdd_fisica.filter(lambda x: x[1] < 5).count()\n",
    "suspensos_mates = rdd_mates.filter(lambda x: x[1] < 5).count()\n",
    "suspensos_ingles = rdd_ingles.filter(lambda x: x[1] < 5).count()\n",
    "\n",
    "rdd_suspensos = sc.parallelize([(\"Física\", suspensos_fisica), (\"Matemáticas\", suspensos_mates), (\"Inglés\", suspensos_ingles)])\n",
    "print(rdd_suspensos.collect())\n",
    "\n",
    "rdd_mas_suspensos = rdd_suspensos.takeOrdered(1, lambda x: -x[1])\n",
    "print(rdd_mas_suspensos)\n",
    "\n",
    "rdd_total_notables = rdd_notas.flatMap(lambda x: x[1]).filter(lambda x: x >= 7).count()\n",
    "print(rdd_total_notables)\n",
    "\n",
    "rdd_alumno_no_presentado = rdd_notas.filter(lambda x: len(x[1]) < 3).keys()\n",
    "print(rdd_alumno_no_presentado.collect())\n",
    "\n",
    "rdd_cantidad_asignaturas = rdd_notas.mapValues(lambda x: len(x))\n",
    "print(rdd_cantidad_asignaturas.collect())"
   ]
  },
  {
   "cell_type": "markdown",
   "metadata": {},
   "source": [
    "## EJERCICIO 12"
   ]
  },
  {
   "cell_type": "markdown",
   "metadata": {},
   "source": [
    "Realiza las siguientes operaciones:\n",
    "1. Genera un RDD con la siguiente lista [1, 2, 3, 3, 4, 5, 6]\n",
    "2. Multiplica por 2 todos los elementos del RDD anterior\n",
    "3. Filtra el RDD inicial por los elementos pares\n",
    "4. Muestra los elementos unicos del RDD inicial\n",
    "5. Toma los elementos del RDD inicial para multiplicarlos entre si y obtener un resultado"
   ]
  },
  {
   "cell_type": "code",
   "execution_count": 30,
   "metadata": {},
   "outputs": [
    {
     "name": "stdout",
     "output_type": "stream",
     "text": [
      "RDD multiplicado por 2: [2, 4, 6, 6, 8, 10, 12]\n",
      "Elementos pares: [2, 4, 6]\n",
      "Elementos únicos: [1, 2, 3, 4, 5, 6]\n",
      "Producto de todos los elementos: 2160\n"
     ]
    }
   ],
   "source": [
    "spark = SparkSession.builder.appName(\"RDD_Operations\").getOrCreate()\n",
    "sc = spark.sparkContext\n",
    "\n",
    "rdd = sc.parallelize([1, 2, 3, 3, 4, 5, 6])\n",
    "\n",
    "rdd_multiplied = rdd.map(lambda x: x * 2)\n",
    "print(\"RDD multiplicado por 2:\", rdd_multiplied.collect())\n",
    "\n",
    "rdd_even = rdd.filter(lambda x: x % 2 == 0)\n",
    "print(\"Elementos pares:\", rdd_even.collect())\n",
    "\n",
    "rdd_unique = rdd.distinct()\n",
    "print(\"Elementos únicos:\", rdd_unique.collect())\n",
    "\n",
    "product = rdd.reduce(lambda x, y: x * y)\n",
    "print(\"Producto de todos los elementos:\", product)\n"
   ]
  },
  {
   "cell_type": "markdown",
   "metadata": {},
   "source": [
    "## EJERCICIO 13"
   ]
  },
  {
   "cell_type": "markdown",
   "metadata": {},
   "source": [
    "rdd = sc.parallelize([('a', 1), ('a', 2), ('a', 3), ('b', 1)])\n",
    "\n",
    "Realiza las siguientes operaciones:\n",
    "1. Obten la suma de los valores agrupados por el key\n",
    "2. Ordena el RDD inicial en base al key, de forma descendente"
   ]
  },
  {
   "cell_type": "code",
   "execution_count": 33,
   "metadata": {},
   "outputs": [
    {
     "name": "stdout",
     "output_type": "stream",
     "text": [
      "[('b', 1), ('a', 6)]\n",
      "[('b', 1), ('a', 1), ('a', 2), ('a', 3)]\n"
     ]
    }
   ],
   "source": [
    "rdd = sc.parallelize([('a', 1), ('a', 2), ('a', 3), ('b', 1)])\n",
    "\n",
    "rdd_sum = rdd.reduceByKey(lambda x, y: x + y)\n",
    "print(rdd_sum.collect())\n",
    "\n",
    "rdd_sorted = rdd.sortBy(lambda x: x[0], ascending=False)\n",
    "print(rdd_sorted.collect())\n",
    "\n"
   ]
  },
  {
   "cell_type": "markdown",
   "metadata": {},
   "source": [
    "## EJERCICIO 14"
   ]
  },
  {
   "cell_type": "markdown",
   "metadata": {},
   "source": [
    "data= ['Python', 'Scala', 'Python', 'R', 'Python', 'Java', 'R' ]\n",
    "\n",
    "rdd= sc.parallelize(data)\n",
    "\n",
    "Cuenta cuantas veces aparece cada valor"
   ]
  },
  {
   "cell_type": "code",
   "execution_count": 82,
   "metadata": {},
   "outputs": [
    {
     "name": "stdout",
     "output_type": "stream",
     "text": [
      "[('Scala', 1), ('R', 2), ('Java', 1), ('Python', 3)]\n"
     ]
    }
   ],
   "source": [
    "data= ['Python', 'Scala', 'Python', 'R', 'Python', 'Java', 'R' ]\n",
    "\n",
    "rdd= sc.parallelize(data)\n",
    "rdd_count = rdd.map(lambda x: (x,1)).reduceByKey(lambda x,y: x+y)\n",
    "print(rdd_count.collect())"
   ]
  }
 ],
 "metadata": {
  "kernelspec": {
   "display_name": "CloneSAPA",
   "language": "python",
   "name": "python3"
  },
  "language_info": {
   "codemirror_mode": {
    "name": "ipython",
    "version": 3
   },
   "file_extension": ".py",
   "mimetype": "text/x-python",
   "name": "python",
   "nbconvert_exporter": "python",
   "pygments_lexer": "ipython3",
   "version": "3.12.8"
  }
 },
 "nbformat": 4,
 "nbformat_minor": 2
}
