{
 "cells": [
  {
   "cell_type": "markdown",
   "id": "82b79211",
   "metadata": {},
   "source": [
    "# EJERCICIOS"
   ]
  },
  {
   "cell_type": "markdown",
   "metadata": {},
   "source": [
    "## EJERCICIO 1"
   ]
  },
  {
   "cell_type": "markdown",
   "metadata": {},
   "source": [
    "Conéctate a una instancia local de MongoDB y lista las bases de datos disponibles"
   ]
  },
  {
   "cell_type": "code",
   "execution_count": null,
   "metadata": {},
   "outputs": [],
   "source": []
  },
  {
   "cell_type": "markdown",
   "metadata": {},
   "source": [
    "Crea una nueva base de datos llamada 'library' y una colección llamada 'books'"
   ]
  },
  {
   "cell_type": "code",
   "execution_count": null,
   "metadata": {},
   "outputs": [],
   "source": []
  },
  {
   "cell_type": "markdown",
   "metadata": {},
   "source": [
    "Inserta tres documentos en la colección 'books' con los siguientes datos:\n",
    "1. title: \"1984\", author: \"George Orwell\", published_year: 1949\n",
    "2. title: \"The Great Gatsby\", author: \"F. Scott Fitzgerald\", published_year: 1925\n",
    "3. title: \"War and Peace\", author: \"Leo Tolstoy\", published_year: 1869\n",
    "\n",
    "Muestra los id de los elementos insertados\n"
   ]
  },
  {
   "cell_type": "code",
   "execution_count": null,
   "metadata": {},
   "outputs": [],
   "source": []
  },
  {
   "cell_type": "markdown",
   "metadata": {},
   "source": [
    "Accede a la base de datos y muestra todos los documentos en la colección 'books'"
   ]
  },
  {
   "cell_type": "code",
   "execution_count": null,
   "metadata": {},
   "outputs": [],
   "source": []
  },
  {
   "cell_type": "markdown",
   "metadata": {},
   "source": [
    "Actualizar el año de publicación del libro de titulo \"1984\" a 1984 (anteriormente estaba como 1949)."
   ]
  },
  {
   "cell_type": "code",
   "execution_count": null,
   "metadata": {},
   "outputs": [],
   "source": []
  },
  {
   "cell_type": "markdown",
   "metadata": {},
   "source": [
    "Verifica que la actualización se haya realizado"
   ]
  },
  {
   "cell_type": "code",
   "execution_count": null,
   "metadata": {},
   "outputs": [],
   "source": []
  },
  {
   "cell_type": "markdown",
   "metadata": {},
   "source": [
    "Elimina el documento \"War and Peace\" de la colección 'books'"
   ]
  },
  {
   "cell_type": "code",
   "execution_count": null,
   "metadata": {},
   "outputs": [],
   "source": []
  },
  {
   "cell_type": "markdown",
   "metadata": {},
   "source": [
    "Verificar que el documento se haya eliminado"
   ]
  },
  {
   "cell_type": "code",
   "execution_count": null,
   "metadata": {},
   "outputs": [],
   "source": []
  },
  {
   "cell_type": "markdown",
   "metadata": {},
   "source": [
    "## EJERCICIO 2"
   ]
  },
  {
   "cell_type": "markdown",
   "id": "59d6f5d1",
   "metadata": {},
   "source": [
    "Inicializa un cliente y conectate a la base de datos my_store (no existe)"
   ]
  },
  {
   "cell_type": "code",
   "execution_count": null,
   "id": "b6fb6675",
   "metadata": {},
   "outputs": [],
   "source": []
  },
  {
   "cell_type": "markdown",
   "id": "d8a52c99",
   "metadata": {},
   "source": [
    "Inserta en la base de datos estos datos en la colección items\n",
    "\n",
    "    {\n",
    "        \"name\": \"Bag\", \n",
    "        \"departments\": [\"School\"], \n",
    "        \"versions\": [\n",
    "            {\"color\": \"Black\", \"size\": \"small\", \"qty\": 5, \"price\": 17.79},\n",
    "            {\"color\": \"Red\", \"size\": \"small\", \"qty\": 3, \"price\": 18.23},\n",
    "            {\"color\": \"Green\", \"size\": \"small\", \"qty\": 5, \"price\": 20.03},\n",
    "            {\"color\": \"Black\", \"size\": \"large\", \"qty\": 1, \"price\": 41.23},\n",
    "            {\"color\": \"Red\", \"size\": \"large\", \"qty\": 10, \"price\": 46.82},\n",
    "            {\"color\": \"Green\", \"size\": \"large\", \"qty\": 7, \"price\": 45.43}\n",
    "        ]\n",
    "    }\n",
    "\n",
    "    {\n",
    "        \"name\": \"Mug\", \n",
    "        \"departments\": [\"Home\", \"Kitchen\"], \n",
    "        \"versions\": [\n",
    "            {\"color\": \"White\", \"size\": \"11 oz\", \"qty\": 14, \"price\": 14.79},\n",
    "            {\"color\": \"Blue\", \"size\": \"11 oz\", \"qty\": 23, \"price\": 15.23},\n",
    "            {\"color\": \"Green\", \"size\": \"11 oz\", \"qty\": 15, \"price\": 15.07},\n",
    "            {\"color\": \"White\", \"size\": \"15 oz\", \"qty\": 11, \"price\": 24.43},\n",
    "            {\"color\": \"Blue\", \"size\": \"15 oz\", \"qty\": 7, \"price\": 25.42},\n",
    "            {\"color\": \"Green\", \"size\": \"15 oz\", \"qty\": 10, \"price\": 25.83}\n",
    "        ]\n",
    "    }\n",
    "    \n",
    "    {\n",
    "        \"name\": \"Pens\", \n",
    "        \"departments\": [\"School\", \"Office\"], \n",
    "        \"versions\": [\n",
    "            {\"color\": \"Black\", \"type\": \"10 Pack\", \"qty\": 40, \"price\": 14.79},\n",
    "            {\"color\": \"Red\", \"type\": \"10 Pack\", \"qty\": 13, \"price\": 15.23},\n",
    "            {\"color\": \"Blue\", \"type\": \"10 Pack\", \"qty\": 12, \"price\": 15.07}\n",
    "        ]\n",
    "    }"
   ]
  },
  {
   "cell_type": "code",
   "execution_count": null,
   "id": "998d2d20",
   "metadata": {},
   "outputs": [],
   "source": []
  },
  {
   "cell_type": "markdown",
   "id": "821f64a2",
   "metadata": {},
   "source": [
    "Crea una función a la que le pases el cursor con los resultados de una consulta y los imprima"
   ]
  },
  {
   "cell_type": "code",
   "execution_count": null,
   "id": "fb611b3b",
   "metadata": {},
   "outputs": [],
   "source": []
  },
  {
   "cell_type": "markdown",
   "metadata": {},
   "source": [
    "Usando la función anterior muestra los articulos del departamento School"
   ]
  },
  {
   "cell_type": "code",
   "execution_count": null,
   "id": "9b3149e7",
   "metadata": {},
   "outputs": [],
   "source": []
  },
  {
   "cell_type": "markdown",
   "metadata": {},
   "source": [
    "Muestra los articulos que pertenecen a los departamentos Office o a Kitchen"
   ]
  },
  {
   "cell_type": "code",
   "execution_count": null,
   "id": "e654b313",
   "metadata": {},
   "outputs": [],
   "source": []
  },
  {
   "cell_type": "markdown",
   "metadata": {},
   "source": [
    "Muestra los articulos que pertenecen exactamente a dos departamentos"
   ]
  },
  {
   "cell_type": "code",
   "execution_count": null,
   "id": "a9aaea19",
   "metadata": {},
   "outputs": [],
   "source": []
  },
  {
   "cell_type": "markdown",
   "id": "e59dad98",
   "metadata": {},
   "source": [
    "Muestra los articulos que tienen una version de color Red"
   ]
  },
  {
   "cell_type": "code",
   "execution_count": null,
   "id": "38f061ad",
   "metadata": {},
   "outputs": [],
   "source": []
  },
  {
   "cell_type": "markdown",
   "metadata": {},
   "source": [
    "Muestra los artículos que dentro de las versiones tienen el atributo size"
   ]
  },
  {
   "cell_type": "code",
   "execution_count": null,
   "id": "62eec0a1",
   "metadata": {},
   "outputs": [],
   "source": []
  },
  {
   "cell_type": "markdown",
   "id": "8b32f857",
   "metadata": {},
   "source": [
    "Actualiza los  departamentos de Pens para que sean Office y School"
   ]
  },
  {
   "cell_type": "code",
   "execution_count": null,
   "id": "e6987cc5",
   "metadata": {},
   "outputs": [],
   "source": []
  },
  {
   "cell_type": "markdown",
   "metadata": {},
   "source": [
    "Comprueba que la actualización ha sido correcta"
   ]
  },
  {
   "cell_type": "code",
   "execution_count": null,
   "id": "e7d5dd72",
   "metadata": {},
   "outputs": [],
   "source": []
  },
  {
   "cell_type": "markdown",
   "metadata": {},
   "source": [
    "Elimina el último departamento de Mug (sin poner explicitamente el nombre del departamento)"
   ]
  },
  {
   "cell_type": "code",
   "execution_count": null,
   "id": "f9cfbeda",
   "metadata": {},
   "outputs": [],
   "source": []
  },
  {
   "cell_type": "markdown",
   "metadata": {},
   "source": [
    "Comprueba que la actualización ha sido correcta"
   ]
  },
  {
   "cell_type": "code",
   "execution_count": null,
   "id": "cd46c9de",
   "metadata": {},
   "outputs": [],
   "source": []
  }
 ],
 "metadata": {
  "kernelspec": {
   "display_name": "Python 3 (ipykernel)",
   "language": "python",
   "name": "python3"
  },
  "language_info": {
   "codemirror_mode": {
    "name": "ipython",
    "version": 3
   },
   "file_extension": ".py",
   "mimetype": "text/x-python",
   "name": "python",
   "nbconvert_exporter": "python",
   "pygments_lexer": "ipython3",
   "version": "3.10.13"
  }
 },
 "nbformat": 4,
 "nbformat_minor": 5
}
